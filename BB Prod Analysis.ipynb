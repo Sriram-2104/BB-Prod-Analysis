{
 "cells": [
  {
   "cell_type": "code",
   "execution_count": 1,
   "id": "4ee331bd",
   "metadata": {},
   "outputs": [],
   "source": [
    "import pandas as pd\n",
    "import seaborn as sns\n",
    "import matplotlib.pyplot as plt"
   ]
  },
  {
   "cell_type": "code",
   "execution_count": 5,
   "id": "ff6b4ad5",
   "metadata": {},
   "outputs": [],
   "source": [
    "df = pd.read_csv('C:/Users/srira/Downloads/BigBasket Products.csv')"
   ]
  },
  {
   "cell_type": "code",
   "execution_count": 6,
   "id": "ed5bf549",
   "metadata": {},
   "outputs": [
    {
     "data": {
      "text/html": [
       "<div>\n",
       "<style scoped>\n",
       "    .dataframe tbody tr th:only-of-type {\n",
       "        vertical-align: middle;\n",
       "    }\n",
       "\n",
       "    .dataframe tbody tr th {\n",
       "        vertical-align: top;\n",
       "    }\n",
       "\n",
       "    .dataframe thead th {\n",
       "        text-align: right;\n",
       "    }\n",
       "</style>\n",
       "<table border=\"1\" class=\"dataframe\">\n",
       "  <thead>\n",
       "    <tr style=\"text-align: right;\">\n",
       "      <th></th>\n",
       "      <th>index</th>\n",
       "      <th>product</th>\n",
       "      <th>category</th>\n",
       "      <th>sub_category</th>\n",
       "      <th>brand</th>\n",
       "      <th>sale_price</th>\n",
       "      <th>market_price</th>\n",
       "      <th>type</th>\n",
       "      <th>rating</th>\n",
       "      <th>description</th>\n",
       "    </tr>\n",
       "  </thead>\n",
       "  <tbody>\n",
       "    <tr>\n",
       "      <th>0</th>\n",
       "      <td>1</td>\n",
       "      <td>Garlic Oil - Vegetarian Capsule 500 mg</td>\n",
       "      <td>Beauty &amp; Hygiene</td>\n",
       "      <td>Hair Care</td>\n",
       "      <td>Sri Sri Ayurveda</td>\n",
       "      <td>220.0</td>\n",
       "      <td>220.0</td>\n",
       "      <td>Hair Oil &amp; Serum</td>\n",
       "      <td>4.1</td>\n",
       "      <td>This Product contains Garlic Oil that is known...</td>\n",
       "    </tr>\n",
       "    <tr>\n",
       "      <th>1</th>\n",
       "      <td>2</td>\n",
       "      <td>Water Bottle - Orange</td>\n",
       "      <td>Kitchen, Garden &amp; Pets</td>\n",
       "      <td>Storage &amp; Accessories</td>\n",
       "      <td>Mastercook</td>\n",
       "      <td>180.0</td>\n",
       "      <td>180.0</td>\n",
       "      <td>Water &amp; Fridge Bottles</td>\n",
       "      <td>2.3</td>\n",
       "      <td>Each product is microwave safe (without lid), ...</td>\n",
       "    </tr>\n",
       "    <tr>\n",
       "      <th>2</th>\n",
       "      <td>3</td>\n",
       "      <td>Brass Angle Deep - Plain, No.2</td>\n",
       "      <td>Cleaning &amp; Household</td>\n",
       "      <td>Pooja Needs</td>\n",
       "      <td>Trm</td>\n",
       "      <td>119.0</td>\n",
       "      <td>250.0</td>\n",
       "      <td>Lamp &amp; Lamp Oil</td>\n",
       "      <td>3.4</td>\n",
       "      <td>A perfect gift for all occasions, be it your m...</td>\n",
       "    </tr>\n",
       "    <tr>\n",
       "      <th>3</th>\n",
       "      <td>4</td>\n",
       "      <td>Cereal Flip Lid Container/Storage Jar - Assort...</td>\n",
       "      <td>Cleaning &amp; Household</td>\n",
       "      <td>Bins &amp; Bathroom Ware</td>\n",
       "      <td>Nakoda</td>\n",
       "      <td>149.0</td>\n",
       "      <td>176.0</td>\n",
       "      <td>Laundry, Storage Baskets</td>\n",
       "      <td>3.7</td>\n",
       "      <td>Multipurpose container with an attractive desi...</td>\n",
       "    </tr>\n",
       "    <tr>\n",
       "      <th>4</th>\n",
       "      <td>5</td>\n",
       "      <td>Creme Soft Soap - For Hands &amp; Body</td>\n",
       "      <td>Beauty &amp; Hygiene</td>\n",
       "      <td>Bath &amp; Hand Wash</td>\n",
       "      <td>Nivea</td>\n",
       "      <td>162.0</td>\n",
       "      <td>162.0</td>\n",
       "      <td>Bathing Bars &amp; Soaps</td>\n",
       "      <td>4.4</td>\n",
       "      <td>Nivea Creme Soft Soap gives your skin the best...</td>\n",
       "    </tr>\n",
       "  </tbody>\n",
       "</table>\n",
       "</div>"
      ],
      "text/plain": [
       "   index                                            product  \\\n",
       "0      1             Garlic Oil - Vegetarian Capsule 500 mg   \n",
       "1      2                              Water Bottle - Orange   \n",
       "2      3                     Brass Angle Deep - Plain, No.2   \n",
       "3      4  Cereal Flip Lid Container/Storage Jar - Assort...   \n",
       "4      5                 Creme Soft Soap - For Hands & Body   \n",
       "\n",
       "                 category           sub_category              brand  \\\n",
       "0        Beauty & Hygiene              Hair Care  Sri Sri Ayurveda    \n",
       "1  Kitchen, Garden & Pets  Storage & Accessories         Mastercook   \n",
       "2    Cleaning & Household            Pooja Needs                Trm   \n",
       "3    Cleaning & Household   Bins & Bathroom Ware             Nakoda   \n",
       "4        Beauty & Hygiene       Bath & Hand Wash              Nivea   \n",
       "\n",
       "   sale_price  market_price                      type  rating  \\\n",
       "0       220.0         220.0          Hair Oil & Serum     4.1   \n",
       "1       180.0         180.0    Water & Fridge Bottles     2.3   \n",
       "2       119.0         250.0           Lamp & Lamp Oil     3.4   \n",
       "3       149.0         176.0  Laundry, Storage Baskets     3.7   \n",
       "4       162.0         162.0      Bathing Bars & Soaps     4.4   \n",
       "\n",
       "                                         description  \n",
       "0  This Product contains Garlic Oil that is known...  \n",
       "1  Each product is microwave safe (without lid), ...  \n",
       "2  A perfect gift for all occasions, be it your m...  \n",
       "3  Multipurpose container with an attractive desi...  \n",
       "4  Nivea Creme Soft Soap gives your skin the best...  "
      ]
     },
     "execution_count": 6,
     "metadata": {},
     "output_type": "execute_result"
    }
   ],
   "source": [
    "df.head(5)"
   ]
  },
  {
   "cell_type": "code",
   "execution_count": 7,
   "id": "55093115",
   "metadata": {},
   "outputs": [
    {
     "data": {
      "text/plain": [
       "(27555, 10)"
      ]
     },
     "execution_count": 7,
     "metadata": {},
     "output_type": "execute_result"
    }
   ],
   "source": [
    "df.shape"
   ]
  },
  {
   "cell_type": "code",
   "execution_count": 8,
   "id": "ea66fb70",
   "metadata": {},
   "outputs": [
    {
     "data": {
      "text/plain": [
       "array(['Beauty & Hygiene', 'Kitchen, Garden & Pets',\n",
       "       'Cleaning & Household', 'Gourmet & World Food',\n",
       "       'Foodgrains, Oil & Masala', 'Snacks & Branded Foods', 'Beverages',\n",
       "       'Bakery, Cakes & Dairy', 'Baby Care', 'Fruits & Vegetables',\n",
       "       'Eggs, Meat & Fish'], dtype=object)"
      ]
     },
     "execution_count": 8,
     "metadata": {},
     "output_type": "execute_result"
    }
   ],
   "source": [
    "df.category.unique()"
   ]
  },
  {
   "cell_type": "code",
   "execution_count": 9,
   "id": "c634e87b",
   "metadata": {},
   "outputs": [
    {
     "data": {
      "text/plain": [
       "Fresho              638\n",
       "bb Royal            539\n",
       "BB Home             428\n",
       "DP                  250\n",
       "Fresho Signature    171\n",
       "bb Combo            168\n",
       "Amul                153\n",
       "INATUR              146\n",
       "Himalaya            141\n",
       "Dabur               138\n",
       "GoodDiet            134\n",
       "Cello               124\n",
       "Nike                124\n",
       "Iveo                118\n",
       "BIOTIQUE            117\n",
       "Name: brand, dtype: int64"
      ]
     },
     "execution_count": 9,
     "metadata": {},
     "output_type": "execute_result"
    }
   ],
   "source": [
    "df.brand.value_counts().head(15)"
   ]
  },
  {
   "cell_type": "code",
   "execution_count": 10,
   "id": "3c5afd3e",
   "metadata": {},
   "outputs": [
    {
     "data": {
      "text/plain": [
       "20791           30% Cookies and Cream With White Chocolate\n",
       "8267               Skin-Fit Tablets - Improves Skin Health\n",
       "19447       Caviar Rejuvenate & Protecting Face Mask Sheet\n",
       "19414                      Baby Soft Relax Teethers - 2 M+\n",
       "19412                                  Arsohills - Tablets\n",
       "8223                        Hyaluronic Acid Moisture Cream\n",
       "2365     Pro Expert Nutrition Large Breed Puppy (3-18 M...\n",
       "25246                  Adult Dry Dog Food - Chicken & Rice\n",
       "8236                 Milkshake - Vanilla Ice Cream Flavour\n",
       "8238                           Organic Mustard Oil/Rai Oil\n",
       "19402                           Overnight Purifying Lotion\n",
       "25255    Rich Premium Kitten Fine Wet Cat Food, Chicken...\n",
       "8248                         Whey Protein - Rich Chocolate\n",
       "25260                      Tango Water/Juice Glass Tumbler\n",
       "8274                        De-Tangling Comb - 1 Row, 1266\n",
       "Name: product, dtype: object"
      ]
     },
     "execution_count": 10,
     "metadata": {},
     "output_type": "execute_result"
    }
   ],
   "source": [
    "df.sort_values(by='rating',ascending = False)['product'].head(15)"
   ]
  },
  {
   "cell_type": "code",
   "execution_count": 11,
   "id": "ab4f5dab",
   "metadata": {},
   "outputs": [
    {
     "data": {
      "text/plain": [
       "1970                            OH! Pleasure Gel for Women\n",
       "10126                          Bananna Treat Chilli Masala\n",
       "22021          Spray Glass water Bottle With Cork - Orange\n",
       "22031                               Peanut Butter - Salted\n",
       "5559                               Shot Glass - Plaza Shot\n",
       "11940                      Massage Cream For Stretch Marks\n",
       "5555     3-In-1 Hair Styler Straightener, Curler & Crim...\n",
       "11213                                   PP Strawberry Belt\n",
       "18780                    Diwali Gift - Cane Delight, Large\n",
       "2379                    Power Toothbrush For Kids - Yellow\n",
       "24730    Chai/Bone China Tea/Coffee Cups - Gray, Floral...\n",
       "19040    Deltoid Turbo Face Masks In Grey Mesh With Gre...\n",
       "25154                                Turtle Sipper - Green\n",
       "24744                                   Ovel - AA 240 Open\n",
       "18277                                   Classic Mayonnaise\n",
       "Name: product, dtype: object"
      ]
     },
     "execution_count": 11,
     "metadata": {},
     "output_type": "execute_result"
    }
   ],
   "source": [
    "df.sort_values(by='rating',ascending = True)['product'].head(15)"
   ]
  },
  {
   "cell_type": "code",
   "execution_count": 12,
   "id": "682abf07",
   "metadata": {},
   "outputs": [
    {
     "data": {
      "text/html": [
       "<div>\n",
       "<style scoped>\n",
       "    .dataframe tbody tr th:only-of-type {\n",
       "        vertical-align: middle;\n",
       "    }\n",
       "\n",
       "    .dataframe tbody tr th {\n",
       "        vertical-align: top;\n",
       "    }\n",
       "\n",
       "    .dataframe thead th {\n",
       "        text-align: right;\n",
       "    }\n",
       "</style>\n",
       "<table border=\"1\" class=\"dataframe\">\n",
       "  <thead>\n",
       "    <tr style=\"text-align: right;\">\n",
       "      <th></th>\n",
       "      <th>index</th>\n",
       "      <th>product</th>\n",
       "      <th>sub_category</th>\n",
       "      <th>brand</th>\n",
       "      <th>sale_price</th>\n",
       "      <th>market_price</th>\n",
       "      <th>type</th>\n",
       "      <th>rating</th>\n",
       "      <th>description</th>\n",
       "    </tr>\n",
       "    <tr>\n",
       "      <th>category</th>\n",
       "      <th></th>\n",
       "      <th></th>\n",
       "      <th></th>\n",
       "      <th></th>\n",
       "      <th></th>\n",
       "      <th></th>\n",
       "      <th></th>\n",
       "      <th></th>\n",
       "      <th></th>\n",
       "    </tr>\n",
       "  </thead>\n",
       "  <tbody>\n",
       "    <tr>\n",
       "      <th>Baby Care</th>\n",
       "      <td>610</td>\n",
       "      <td>610</td>\n",
       "      <td>610</td>\n",
       "      <td>610</td>\n",
       "      <td>610</td>\n",
       "      <td>610</td>\n",
       "      <td>610</td>\n",
       "      <td>496</td>\n",
       "      <td>609</td>\n",
       "    </tr>\n",
       "    <tr>\n",
       "      <th>Bakery, Cakes &amp; Dairy</th>\n",
       "      <td>851</td>\n",
       "      <td>851</td>\n",
       "      <td>851</td>\n",
       "      <td>851</td>\n",
       "      <td>851</td>\n",
       "      <td>851</td>\n",
       "      <td>851</td>\n",
       "      <td>665</td>\n",
       "      <td>851</td>\n",
       "    </tr>\n",
       "    <tr>\n",
       "      <th>Beauty &amp; Hygiene</th>\n",
       "      <td>7867</td>\n",
       "      <td>7867</td>\n",
       "      <td>7867</td>\n",
       "      <td>7867</td>\n",
       "      <td>7867</td>\n",
       "      <td>7867</td>\n",
       "      <td>7867</td>\n",
       "      <td>5464</td>\n",
       "      <td>7856</td>\n",
       "    </tr>\n",
       "    <tr>\n",
       "      <th>Beverages</th>\n",
       "      <td>885</td>\n",
       "      <td>884</td>\n",
       "      <td>885</td>\n",
       "      <td>885</td>\n",
       "      <td>885</td>\n",
       "      <td>885</td>\n",
       "      <td>885</td>\n",
       "      <td>634</td>\n",
       "      <td>882</td>\n",
       "    </tr>\n",
       "    <tr>\n",
       "      <th>Cleaning &amp; Household</th>\n",
       "      <td>2675</td>\n",
       "      <td>2675</td>\n",
       "      <td>2675</td>\n",
       "      <td>2674</td>\n",
       "      <td>2675</td>\n",
       "      <td>2675</td>\n",
       "      <td>2675</td>\n",
       "      <td>2100</td>\n",
       "      <td>2665</td>\n",
       "    </tr>\n",
       "    <tr>\n",
       "      <th>Eggs, Meat &amp; Fish</th>\n",
       "      <td>350</td>\n",
       "      <td>350</td>\n",
       "      <td>350</td>\n",
       "      <td>350</td>\n",
       "      <td>350</td>\n",
       "      <td>350</td>\n",
       "      <td>350</td>\n",
       "      <td>0</td>\n",
       "      <td>344</td>\n",
       "    </tr>\n",
       "    <tr>\n",
       "      <th>Foodgrains, Oil &amp; Masala</th>\n",
       "      <td>2676</td>\n",
       "      <td>2676</td>\n",
       "      <td>2676</td>\n",
       "      <td>2676</td>\n",
       "      <td>2676</td>\n",
       "      <td>2676</td>\n",
       "      <td>2676</td>\n",
       "      <td>2193</td>\n",
       "      <td>2655</td>\n",
       "    </tr>\n",
       "    <tr>\n",
       "      <th>Fruits &amp; Vegetables</th>\n",
       "      <td>557</td>\n",
       "      <td>557</td>\n",
       "      <td>557</td>\n",
       "      <td>557</td>\n",
       "      <td>557</td>\n",
       "      <td>557</td>\n",
       "      <td>557</td>\n",
       "      <td>0</td>\n",
       "      <td>556</td>\n",
       "    </tr>\n",
       "    <tr>\n",
       "      <th>Gourmet &amp; World Food</th>\n",
       "      <td>4690</td>\n",
       "      <td>4690</td>\n",
       "      <td>4690</td>\n",
       "      <td>4690</td>\n",
       "      <td>4690</td>\n",
       "      <td>4690</td>\n",
       "      <td>4690</td>\n",
       "      <td>2399</td>\n",
       "      <td>4647</td>\n",
       "    </tr>\n",
       "    <tr>\n",
       "      <th>Kitchen, Garden &amp; Pets</th>\n",
       "      <td>3580</td>\n",
       "      <td>3580</td>\n",
       "      <td>3580</td>\n",
       "      <td>3580</td>\n",
       "      <td>3580</td>\n",
       "      <td>3580</td>\n",
       "      <td>3580</td>\n",
       "      <td>2509</td>\n",
       "      <td>3562</td>\n",
       "    </tr>\n",
       "    <tr>\n",
       "      <th>Snacks &amp; Branded Foods</th>\n",
       "      <td>2814</td>\n",
       "      <td>2814</td>\n",
       "      <td>2814</td>\n",
       "      <td>2814</td>\n",
       "      <td>2814</td>\n",
       "      <td>2814</td>\n",
       "      <td>2814</td>\n",
       "      <td>2469</td>\n",
       "      <td>2813</td>\n",
       "    </tr>\n",
       "  </tbody>\n",
       "</table>\n",
       "</div>"
      ],
      "text/plain": [
       "                          index  product  sub_category  brand  sale_price  \\\n",
       "category                                                                    \n",
       "Baby Care                   610      610           610    610         610   \n",
       "Bakery, Cakes & Dairy       851      851           851    851         851   \n",
       "Beauty & Hygiene           7867     7867          7867   7867        7867   \n",
       "Beverages                   885      884           885    885         885   \n",
       "Cleaning & Household       2675     2675          2675   2674        2675   \n",
       "Eggs, Meat & Fish           350      350           350    350         350   \n",
       "Foodgrains, Oil & Masala   2676     2676          2676   2676        2676   \n",
       "Fruits & Vegetables         557      557           557    557         557   \n",
       "Gourmet & World Food       4690     4690          4690   4690        4690   \n",
       "Kitchen, Garden & Pets     3580     3580          3580   3580        3580   \n",
       "Snacks & Branded Foods     2814     2814          2814   2814        2814   \n",
       "\n",
       "                          market_price  type  rating  description  \n",
       "category                                                           \n",
       "Baby Care                          610   610     496          609  \n",
       "Bakery, Cakes & Dairy              851   851     665          851  \n",
       "Beauty & Hygiene                  7867  7867    5464         7856  \n",
       "Beverages                          885   885     634          882  \n",
       "Cleaning & Household              2675  2675    2100         2665  \n",
       "Eggs, Meat & Fish                  350   350       0          344  \n",
       "Foodgrains, Oil & Masala          2676  2676    2193         2655  \n",
       "Fruits & Vegetables                557   557       0          556  \n",
       "Gourmet & World Food              4690  4690    2399         4647  \n",
       "Kitchen, Garden & Pets            3580  3580    2509         3562  \n",
       "Snacks & Branded Foods            2814  2814    2469         2813  "
      ]
     },
     "execution_count": 12,
     "metadata": {},
     "output_type": "execute_result"
    }
   ],
   "source": [
    "df.groupby(['category']).count()"
   ]
  },
  {
   "cell_type": "code",
   "execution_count": 13,
   "id": "2bed7722",
   "metadata": {},
   "outputs": [
    {
     "data": {
      "text/plain": [
       "index                                                       25302\n",
       "product                                           Bravura Clipper\n",
       "category                                   Kitchen, Garden & Pets\n",
       "sub_category                               Pet Food & Accessories\n",
       "brand                                                        Wahl\n",
       "sale_price                                                12500.0\n",
       "market_price                                              12500.0\n",
       "type                                      Pet Cleaning & Grooming\n",
       "rating                                                        NaN\n",
       "description     The bravura clipper is a must-have clipper for...\n",
       "Name: 25301, dtype: object"
      ]
     },
     "execution_count": 13,
     "metadata": {},
     "output_type": "execute_result"
    }
   ],
   "source": [
    "df.iloc[df.sale_price.idxmax()]"
   ]
  },
  {
   "cell_type": "code",
   "execution_count": 14,
   "id": "aa4d5b06",
   "metadata": {},
   "outputs": [
    {
     "data": {
      "text/plain": [
       "index                                                       26977\n",
       "product                                              Curry Leaves\n",
       "category                                      Fruits & Vegetables\n",
       "sub_category                                   Herbs & Seasonings\n",
       "brand                                                      Fresho\n",
       "sale_price                                                   2.45\n",
       "market_price                                                 15.0\n",
       "type                                        Indian & Exotic Herbs\n",
       "rating                                                        NaN\n",
       "description     With dark green and glossy appearance, curry l...\n",
       "Name: 26976, dtype: object"
      ]
     },
     "execution_count": 14,
     "metadata": {},
     "output_type": "execute_result"
    }
   ],
   "source": [
    "df.iloc[df.sale_price.idxmin()]"
   ]
  },
  {
   "cell_type": "code",
   "execution_count": 15,
   "id": "5994a4b4",
   "metadata": {},
   "outputs": [
    {
     "data": {
      "text/plain": [
       "index                                                       25302\n",
       "product                                           Bravura Clipper\n",
       "category                                   Kitchen, Garden & Pets\n",
       "sub_category                               Pet Food & Accessories\n",
       "brand                                                        Wahl\n",
       "sale_price                                                12500.0\n",
       "market_price                                              12500.0\n",
       "type                                      Pet Cleaning & Grooming\n",
       "rating                                                        NaN\n",
       "description     The bravura clipper is a must-have clipper for...\n",
       "Name: 25301, dtype: object"
      ]
     },
     "execution_count": 15,
     "metadata": {},
     "output_type": "execute_result"
    }
   ],
   "source": [
    "df.iloc[df.market_price.idxmax()]"
   ]
  },
  {
   "cell_type": "code",
   "execution_count": 16,
   "id": "d8c0a08c",
   "metadata": {},
   "outputs": [
    {
     "data": {
      "text/plain": [
       "index                                                       21313\n",
       "product                                                     Serum\n",
       "category                                         Beauty & Hygiene\n",
       "sub_category                                            Hair Care\n",
       "brand                                                       Livon\n",
       "sale_price                                                    3.0\n",
       "market_price                                                  3.0\n",
       "type                                             Hair Oil & Serum\n",
       "rating                                                        2.5\n",
       "description     Instantly Softens and Smoothens Dry, Rough, Ta...\n",
       "Name: 21312, dtype: object"
      ]
     },
     "execution_count": 16,
     "metadata": {},
     "output_type": "execute_result"
    }
   ],
   "source": [
    "df.iloc[df.market_price.idxmin()]"
   ]
  },
  {
   "cell_type": "code",
   "execution_count": 22,
   "id": "c6aecd26",
   "metadata": {},
   "outputs": [
    {
     "data": {
      "text/plain": [
       "10658"
      ]
     },
     "execution_count": 22,
     "metadata": {},
     "output_type": "execute_result"
    }
   ],
   "source": [
    "df[df.rating >= 4]['product'].nunique()"
   ]
  },
  {
   "cell_type": "code",
   "execution_count": 23,
   "id": "b7f4037d",
   "metadata": {},
   "outputs": [
    {
     "data": {
      "text/plain": [
       "1322"
      ]
     },
     "execution_count": 23,
     "metadata": {},
     "output_type": "execute_result"
    }
   ],
   "source": [
    "df[df.rating == 5]['product'].nunique()"
   ]
  },
  {
   "cell_type": "code",
   "execution_count": 25,
   "id": "a93adcfd",
   "metadata": {},
   "outputs": [
    {
     "name": "stderr",
     "output_type": "stream",
     "text": [
      "D:\\New PY\\lib\\site-packages\\seaborn\\distributions.py:306: UserWarning: Dataset has 0 variance; skipping density estimate.\n",
      "  warnings.warn(msg, UserWarning)\n",
      "D:\\New PY\\lib\\site-packages\\seaborn\\distributions.py:306: UserWarning: Dataset has 0 variance; skipping density estimate.\n",
      "  warnings.warn(msg, UserWarning)\n"
     ]
    },
    {
     "data": {
      "image/png": "[encoded data removed]",
      "text/plain": [
       "<Figure size 1080x720 with 1 Axes>"
      ]
     },
     "metadata": {
      "needs_background": "light"
     },
     "output_type": "display_data"
    }
   ],
   "source": [
    "plt.figure(figsize=(15, 10))\n",
    "sns.kdeplot(data = df, x='rating',hue='category',multiple='fill',alpha=0.3)\n",
    "plt.show()"
   ]
  },
  {
   "cell_type": "code",
   "execution_count": null,
   "id": "6f13a0f5",
   "metadata": {},
   "outputs": [],
   "source": []
  }
 ],
 "metadata": {
  "kernelspec": {
   "display_name": "Python 3",
   "language": "python",
   "name": "python3"
  },
  "language_info": {
   "codemirror_mode": {
    "name": "ipython",
    "version": 3
   },
   "file_extension": ".py",
   "mimetype": "text/x-python",
   "name": "python",
   "nbconvert_exporter": "python",
   "pygments_lexer": "ipython3",
   "version": "3.8.8"
  }
 },
 "nbformat": 4,
 "nbformat_minor": 5
}
